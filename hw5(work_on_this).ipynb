{
 "cells": [
  {
   "cell_type": "code",
   "execution_count": 5,
   "metadata": {},
   "outputs": [],
   "source": [
    "import pandas as pd\n",
    "from collections import defaultdict\n",
    "import networkx as nx\n",
    "import pickle\n",
    "import collections\n",
    "import math\n",
    "from tqdm import tqdm\n",
    "import numpy as np\n",
    "from collections import defaultdict\n",
    "import statistics\n",
    "import operator"
   ]
  },
  {
   "cell_type": "code",
   "execution_count": 6,
   "metadata": {},
   "outputs": [],
   "source": [
    "source_destination=pd.read_csv('wiki-topcats-reduced.txt',sep=\"\\t\",header=None,names=[\"source\",\"destination\"])"
   ]
  },
  {
   "cell_type": "code",
   "execution_count": 7,
   "metadata": {},
   "outputs": [],
   "source": [
    "source_destination_dict = pickle.load(open('source_destination_dict.p', 'rb'))"
   ]
  },
  {
   "cell_type": "code",
   "execution_count": 8,
   "metadata": {},
   "outputs": [
    {
     "name": "stderr",
     "output_type": "stream",
     "text": [
      "2645247it [01:56, 22639.56it/s]\n"
     ]
    }
   ],
   "source": [
    "source_destination_tuples=[(row[\"source\"],row[\"destination\"]) for idx,row in tqdm(source_destination.iterrows())]"
   ]
  },
  {
   "cell_type": "code",
   "execution_count": 9,
   "metadata": {
    "scrolled": true
   },
   "outputs": [
    {
     "name": "stdout",
     "output_type": "stream",
     "text": [
      "Number of nodes: 461193 \n",
      "Number of edges: 2645247\n"
     ]
    }
   ],
   "source": [
    "Gtup_directed = nx.DiGraph()\n",
    "Gtup_directed.add_edges_from(source_destination_tuples)\n",
    "print(\"Number of nodes:\",len(Gtup_directed.nodes()),\"\\nNumber of edges:\",len(Gtup_directed.edges()))"
   ]
  },
  {
   "cell_type": "code",
   "execution_count": 10,
   "metadata": {},
   "outputs": [],
   "source": [
    "categories=pd.read_csv('wiki-topcats-categories.txt',sep=\"\\n\",header=None)"
   ]
  },
  {
   "cell_type": "code",
   "execution_count": 11,
   "metadata": {},
   "outputs": [],
   "source": [
    "def num_cat(row):\n",
    "    cat=row\n",
    "    return len(cat.split(\"; \")[1].split(\" \"))"
   ]
  },
  {
   "cell_type": "code",
   "execution_count": 12,
   "metadata": {},
   "outputs": [],
   "source": [
    "categories=categories[categories.iloc[:,0].apply(lambda x:True if num_cat(x)>3500 else False)]"
   ]
  },
  {
   "cell_type": "code",
   "execution_count": 13,
   "metadata": {},
   "outputs": [],
   "source": [
    "categories_dict=defaultdict(list)\n",
    "for idx in categories.index:\n",
    "    cat_and_values=categories[0].loc[idx].split(\"; \")\n",
    "    cat_name=cat_and_values[0].split(\":\")[1]\n",
    "    categories_dict[cat_name]=list(map(int,cat_and_values[1].split(\" \")))"
   ]
  },
  {
   "cell_type": "code",
   "execution_count": 14,
   "metadata": {},
   "outputs": [],
   "source": [
    "categories = {}\n",
    "all_nodes=set(Gtup_directed.nodes())\n",
    "for key, values in categories_dict.items():\n",
    "        categories[key] = all_nodes.intersection(set(values))\n",
    "        if len(categories[key]) < 3500:\n",
    "            del(categories[key])"
   ]
  },
  {
   "cell_type": "code",
   "execution_count": 15,
   "metadata": {},
   "outputs": [],
   "source": [
    "import random\n",
    "cat_nodes_lst = random.sample(categories['Windows_games'], 100)\n",
    "Gtup_directed_sample_C0=Gtup_directed.subgraph(cat_nodes_lst)"
   ]
  },
  {
   "cell_type": "code",
   "execution_count": 16,
   "metadata": {},
   "outputs": [
    {
     "data": {
      "text/plain": [
       "'Name: \\nType: SubDiGraph\\nNumber of nodes: 100\\nNumber of edges: 8\\nAverage in degree:   0.0800\\nAverage out degree:   0.0800'"
      ]
     },
     "execution_count": 16,
     "metadata": {},
     "output_type": "execute_result"
    }
   ],
   "source": [
    "nx.info(Gtup_directed_sample_C0)"
   ]
  },
  {
   "cell_type": "code",
   "execution_count": 17,
   "metadata": {},
   "outputs": [],
   "source": [
    "def bfs_shortest_path(graph, start):\n",
    "    explored = set()\n",
    "    queue = [start]\n",
    "    shortest_path_dict = {}\n",
    "    counter_level = 0\n",
    "    to_visit_list = []\n",
    "    while queue:\n",
    "        for node in queue:\n",
    "            if node not in explored:\n",
    "                shortest_path_dict[node] = counter_level\n",
    "                neighbours = graph[node]\n",
    "                explored.add(node)\n",
    "                to_visit_list.extend(neighbours)\n",
    "        queue = []\n",
    "        queue.extend(to_visit_list)\n",
    "        to_visit_list = []\n",
    "        counter_level += 1\n",
    "    return shortest_path_dict"
   ]
  },
  {
   "cell_type": "code",
   "execution_count": 18,
   "metadata": {},
   "outputs": [
    {
     "name": "stderr",
     "output_type": "stream",
     "text": [
      "100%|██████████| 100/100 [01:26<00:00,  1.17it/s]\n"
     ]
    }
   ],
   "source": [
    "l = []\n",
    "for article in tqdm(Gtup_directed_sample_C0.nodes()):\n",
    "    l.append(bfs_shortest_path(Gtup_directed, article))   \n"
   ]
  },
  {
   "cell_type": "code",
   "execution_count": 19,
   "metadata": {},
   "outputs": [],
   "source": [
    "d = defaultdict(list)\n",
    "for node in l:\n",
    "    for key, value in node.items():\n",
    "        d[key].append(value)"
   ]
  },
  {
   "cell_type": "code",
   "execution_count": 20,
   "metadata": {},
   "outputs": [],
   "source": [
    "z = defaultdict(list)\n",
    "for key, value in d.items():\n",
    "    z[key] = np.min(d[key])"
   ]
  },
  {
   "cell_type": "code",
   "execution_count": 21,
   "metadata": {},
   "outputs": [],
   "source": [
    "categories_edited = categories.copy()"
   ]
  },
  {
   "cell_type": "code",
   "execution_count": 22,
   "metadata": {},
   "outputs": [],
   "source": [
    "to_delete_article = []\n",
    "for article in categories_edited['Windows_games']:\n",
    "    if article not in cat_nodes_lst:\n",
    "        to_delete_article.append(article)"
   ]
  },
  {
   "cell_type": "code",
   "execution_count": 23,
   "metadata": {},
   "outputs": [],
   "source": [
    "for article in to_delete_article:\n",
    "    categories_edited['Windows_games'].remove(article)\n",
    "    "
   ]
  },
  {
   "cell_type": "code",
   "execution_count": 24,
   "metadata": {},
   "outputs": [
    {
     "data": {
      "text/plain": [
       "100"
      ]
     },
     "execution_count": 24,
     "metadata": {},
     "output_type": "execute_result"
    }
   ],
   "source": [
    "len(categories_edited['Windows_games'])"
   ]
  },
  {
   "cell_type": "markdown",
   "metadata": {},
   "source": [
    "Ok, now 'Windows_games' has 100 article"
   ]
  },
  {
   "cell_type": "code",
   "execution_count": 25,
   "metadata": {},
   "outputs": [
    {
     "name": "stderr",
     "output_type": "stream",
     "text": [
      "100%|██████████| 29/29 [00:01<00:00, 20.67it/s]\n"
     ]
    }
   ],
   "source": [
    "cat_inv_dic=defaultdict(list)\n",
    "for cat_k,cat_v in tqdm(categories_edited.items()):\n",
    "    for node,val in z.items():\n",
    "        if node in cat_v:\n",
    "            cat_inv_dic[cat_k].append(val)"
   ]
  },
  {
   "cell_type": "code",
   "execution_count": 26,
   "metadata": {},
   "outputs": [],
   "source": [
    "for cat_k in categories_edited.keys():\n",
    "    cat_inv_dic[cat_k].extend([100]*(len(categories_edited[cat_k])-len(cat_inv_dic[cat_k])))"
   ]
  },
  {
   "cell_type": "code",
   "execution_count": 27,
   "metadata": {},
   "outputs": [],
   "source": [
    "for key, value in cat_inv_dic.items():\n",
    "    cat_inv_dic[key] = statistics.median(cat_inv_dic[key])"
   ]
  },
  {
   "cell_type": "code",
   "execution_count": 28,
   "metadata": {},
   "outputs": [
    {
     "data": {
      "text/plain": [
       "defaultdict(list,\n",
       "            {'English_footballers': 6.0,\n",
       "             'The_Football_League_players': 6.0,\n",
       "             'Association_football_forwards': 7,\n",
       "             'Association_football_goalkeepers': 100,\n",
       "             'Association_football_midfielders': 100,\n",
       "             'Association_football_defenders': 10.0,\n",
       "             'Living_people': 6.0,\n",
       "             'Harvard_University_alumni': 6,\n",
       "             'Major_League_Baseball_pitchers': 5.0,\n",
       "             'Members_of_the_United_Kingdom_Parliament_for_English_constituencies': 5,\n",
       "             'Indian_films': 5.0,\n",
       "             'Year_of_death_missing': 100.0,\n",
       "             'Year_of_birth_missing_(living_people)': 6.0,\n",
       "             'Rivers_of_Romania': 6,\n",
       "             'Main_Belt_asteroids': 100.0,\n",
       "             'Asteroids_named_for_people': 100,\n",
       "             'English-language_albums': 5.0,\n",
       "             'British_films': 4.0,\n",
       "             'English-language_films': 4,\n",
       "             'American_films': 4,\n",
       "             'People_from_New_York_City': 4.0,\n",
       "             'American_television_actors': 4,\n",
       "             'American_film_actors': 4,\n",
       "             'Debut_albums': 5,\n",
       "             'Black-and-white_films': 4,\n",
       "             'Year_of_birth_missing': 100.0,\n",
       "             'Place_of_birth_missing_(living_people)': 5.0,\n",
       "             'American_military_personnel_of_World_War_II': 5.0,\n",
       "             'Windows_games': 0.0})"
      ]
     },
     "execution_count": 28,
     "metadata": {},
     "output_type": "execute_result"
    }
   ],
   "source": [
    "cat_inv_dic"
   ]
  },
  {
   "cell_type": "code",
   "execution_count": 30,
   "metadata": {},
   "outputs": [],
   "source": [
    "cat_inv_dic_rank= sorted(cat_inv_dic.items(), key=operator.itemgetter(1), reverse= False)"
   ]
  },
  {
   "cell_type": "code",
   "execution_count": 31,
   "metadata": {},
   "outputs": [
    {
     "data": {
      "text/plain": [
       "[('Windows_games', 0.0),\n",
       " ('British_films', 4.0),\n",
       " ('English-language_films', 4),\n",
       " ('American_films', 4),\n",
       " ('People_from_New_York_City', 4.0),\n",
       " ('American_television_actors', 4),\n",
       " ('American_film_actors', 4),\n",
       " ('Black-and-white_films', 4),\n",
       " ('Major_League_Baseball_pitchers', 5.0),\n",
       " ('Members_of_the_United_Kingdom_Parliament_for_English_constituencies', 5),\n",
       " ('Indian_films', 5.0),\n",
       " ('English-language_albums', 5.0),\n",
       " ('Debut_albums', 5),\n",
       " ('Place_of_birth_missing_(living_people)', 5.0),\n",
       " ('American_military_personnel_of_World_War_II', 5.0),\n",
       " ('English_footballers', 6.0),\n",
       " ('The_Football_League_players', 6.0),\n",
       " ('Living_people', 6.0),\n",
       " ('Harvard_University_alumni', 6),\n",
       " ('Year_of_birth_missing_(living_people)', 6.0),\n",
       " ('Rivers_of_Romania', 6),\n",
       " ('Association_football_forwards', 7),\n",
       " ('Association_football_defenders', 10.0),\n",
       " ('Association_football_goalkeepers', 100),\n",
       " ('Association_football_midfielders', 100),\n",
       " ('Year_of_death_missing', 100.0),\n",
       " ('Main_Belt_asteroids', 100.0),\n",
       " ('Asteroids_named_for_people', 100),\n",
       " ('Year_of_birth_missing', 100.0)]"
      ]
     },
     "execution_count": 31,
     "metadata": {},
     "output_type": "execute_result"
    }
   ],
   "source": [
    "cat_inv_dic_rank"
   ]
  },
  {
   "cell_type": "markdown",
   "metadata": {},
   "source": [
    "Step1"
   ]
  },
  {
   "cell_type": "markdown",
   "metadata": {},
   "source": [
    "i wrote two procedure:\n",
    "one,very ugly, a lot of mechanical passages (to complete)\n",
    "and one other (it is at the end of the code), more linear--> there is a function to complete"
   ]
  },
  {
   "cell_type": "code",
   "execution_count": 39,
   "metadata": {},
   "outputs": [],
   "source": [
    "def in_edge_dict(graph, list_article, predecessors_weight_dict):\n",
    "    in_edge_dict = defaultdict(int)\n",
    "    for tupla in list(graph.edges()):\n",
    "        try:\n",
    "            if tupla[1] in list_article:\n",
    "                if tupla[0] in list_article:\n",
    "                    source=predecessors_weight_dict[tupla[0]]\n",
    "                else:\n",
    "                    source=predecessors_weight_dict[tupla[0]]\n",
    "                    in_edge_dict[tupla[1]] += source\n",
    "        except:\n",
    "            in_edge_dict[tupla[1]] = 0\n",
    "   \n",
    "    return in_edge_dict"
   ]
  },
  {
   "cell_type": "markdown",
   "metadata": {},
   "source": [
    "The second way (i prefer this)\n",
    "here there is the same problem that we've already met: update each time a dictionary with the dictionary_weight of the precedent category. Finally, we have to complete the request "
   ]
  },
  {
   "cell_type": "code",
   "execution_count": 34,
   "metadata": {},
   "outputs": [],
   "source": [
    "list_of_nodes=[]"
   ]
  },
  {
   "cell_type": "code",
   "execution_count": 35,
   "metadata": {},
   "outputs": [],
   "source": [
    "for article in categories_dict['Windows_games']:\n",
    "    list_of_nodes.append(article)"
   ]
  },
  {
   "cell_type": "code",
   "execution_count": 36,
   "metadata": {},
   "outputs": [],
   "source": [
    "H = Gtup_directed.subgraph(list_of_nodes)"
   ]
  },
  {
   "cell_type": "markdown",
   "metadata": {},
   "source": [
    "i didn't have added this previous part in the for loop because it give me an error"
   ]
  },
  {
   "cell_type": "code",
   "execution_count": null,
   "metadata": {},
   "outputs": [],
   "source": []
  },
  {
   "cell_type": "code",
   "execution_count": 43,
   "metadata": {},
   "outputs": [
    {
     "name": "stderr",
     "output_type": "stream",
     "text": [
      "  0%|          | 0/29 [00:00<?, ?it/s]\n"
     ]
    },
    {
     "ename": "AttributeError",
     "evalue": "'NoneType' object has no attribute 'append'",
     "output_type": "error",
     "traceback": [
      "\u001b[1;31m---------------------------------------------------------------------------\u001b[0m",
      "\u001b[1;31mAttributeError\u001b[0m                            Traceback (most recent call last)",
      "\u001b[1;32m<ipython-input-43-d28c41143745>\u001b[0m in \u001b[0;36m<module>\u001b[1;34m()\u001b[0m\n\u001b[0;32m      4\u001b[0m     \u001b[0mH\u001b[0m \u001b[1;33m=\u001b[0m \u001b[0mGtup_directed\u001b[0m\u001b[1;33m.\u001b[0m\u001b[0msubgraph\u001b[0m\u001b[1;33m(\u001b[0m\u001b[0mlist_of_nodes\u001b[0m\u001b[1;33m)\u001b[0m\u001b[1;33m\u001b[0m\u001b[0m\n\u001b[0;32m      5\u001b[0m     \u001b[0min_edge_dict_current\u001b[0m \u001b[1;33m=\u001b[0m \u001b[0min_edge_dict\u001b[0m\u001b[1;33m(\u001b[0m\u001b[0mH\u001b[0m\u001b[1;33m,\u001b[0m\u001b[0mcategories_edited\u001b[0m\u001b[1;33m[\u001b[0m\u001b[0mcat_inv_dic_rank\u001b[0m\u001b[1;33m[\u001b[0m\u001b[0mcategory\u001b[0m\u001b[1;33m]\u001b[0m\u001b[1;33m[\u001b[0m\u001b[1;36m0\u001b[0m\u001b[1;33m]\u001b[0m\u001b[1;33m]\u001b[0m\u001b[1;33m,\u001b[0m \u001b[0min_edge_dict_precedent\u001b[0m\u001b[1;33m)\u001b[0m\u001b[1;33m\u001b[0m\u001b[0m\n\u001b[1;32m----> 6\u001b[1;33m     \u001b[0min_edge_dict_list\u001b[0m \u001b[1;33m=\u001b[0m \u001b[0min_edge_dict_list\u001b[0m\u001b[1;33m.\u001b[0m\u001b[0mappend\u001b[0m\u001b[1;33m(\u001b[0m\u001b[0min_edge_dict_current\u001b[0m\u001b[1;33m)\u001b[0m\u001b[1;33m\u001b[0m\u001b[0m\n\u001b[0m\u001b[0;32m      7\u001b[0m     \u001b[0min_edge_dict_precedent\u001b[0m\u001b[1;33m.\u001b[0m\u001b[0mupdate\u001b[0m\u001b[1;33m(\u001b[0m\u001b[0min_edge_dict_current\u001b[0m\u001b[1;33m)\u001b[0m\u001b[1;33m\u001b[0m\u001b[0m\n",
      "\u001b[1;31mAttributeError\u001b[0m: 'NoneType' object has no attribute 'append'"
     ]
    }
   ],
   "source": [
    "for category in tqdm(range(0, len(cat_inv_dic_rank))):\n",
    "    for article in categories_edited[cat_inv_dic_rank[category][0]]:\n",
    "        list_of_nodes.append(article)\n",
    "    H = Gtup_directed.subgraph(list_of_nodes)\n",
    "    in_edge_dict_current = in_edge_dict(H,categories_edited[cat_inv_dic_rank[category][0]], in_edge_dict_precedent)\n",
    "    in_edge_dict_list = in_edge_dict_list.append(in_edge_dict_current)\n",
    "    in_edge_dict_precedent.update(in_edge_dict_current)"
   ]
  },
  {
   "cell_type": "code",
   "execution_count": null,
   "metadata": {},
   "outputs": [],
   "source": []
  }
 ],
 "metadata": {
  "kernelspec": {
   "display_name": "Python 3",
   "language": "python",
   "name": "python3"
  },
  "language_info": {
   "codemirror_mode": {
    "name": "ipython",
    "version": 3
   },
   "file_extension": ".py",
   "mimetype": "text/x-python",
   "name": "python",
   "nbconvert_exporter": "python",
   "pygments_lexer": "ipython3",
   "version": "3.7.0"
  }
 },
 "nbformat": 4,
 "nbformat_minor": 2
}
