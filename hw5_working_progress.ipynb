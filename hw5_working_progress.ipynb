{
 "cells": [
  {
   "cell_type": "markdown",
   "metadata": {},
   "source": [
    "# HW5\n",
    "\n",
    "\n",
    "[RQ1] Build the graph [G=(V, E)] , where V is the set of articles and E the hyperlinks among them, and provide its basic information:\n",
    "\n",
    "    * If it is direct or not\n",
    "    * The number of nodes\n",
    "    * The number of edges\n",
    "    * The average node degree. Is the graph dense?"
   ]
  },
  {
   "cell_type": "code",
   "execution_count": 1,
   "metadata": {},
   "outputs": [],
   "source": [
    "import pandas as pd\n",
    "from collections import defaultdict\n",
    "import networkx as nx\n",
    "import pickle"
   ]
  },
  {
   "cell_type": "code",
   "execution_count": 2,
   "metadata": {},
   "outputs": [],
   "source": [
    "source_destination=pd.read_csv('wiki-topcats-reduced.txt',sep=\"\\t\",header=None,names=[\"source\",\"destination\"])"
   ]
  },
  {
   "cell_type": "code",
   "execution_count": 3,
   "metadata": {},
   "outputs": [
    {
     "data": {
      "text/html": [
       "<div>\n",
       "<style>\n",
       "    .dataframe thead tr:only-child th {\n",
       "        text-align: right;\n",
       "    }\n",
       "\n",
       "    .dataframe thead th {\n",
       "        text-align: left;\n",
       "    }\n",
       "\n",
       "    .dataframe tbody tr th {\n",
       "        vertical-align: top;\n",
       "    }\n",
       "</style>\n",
       "<table border=\"1\" class=\"dataframe\">\n",
       "  <thead>\n",
       "    <tr style=\"text-align: right;\">\n",
       "      <th></th>\n",
       "      <th>source</th>\n",
       "      <th>destination</th>\n",
       "    </tr>\n",
       "  </thead>\n",
       "  <tbody>\n",
       "    <tr>\n",
       "      <th>0</th>\n",
       "      <td>52</td>\n",
       "      <td>401135</td>\n",
       "    </tr>\n",
       "    <tr>\n",
       "      <th>1</th>\n",
       "      <td>52</td>\n",
       "      <td>1069112</td>\n",
       "    </tr>\n",
       "    <tr>\n",
       "      <th>2</th>\n",
       "      <td>52</td>\n",
       "      <td>1163551</td>\n",
       "    </tr>\n",
       "    <tr>\n",
       "      <th>3</th>\n",
       "      <td>62</td>\n",
       "      <td>12162</td>\n",
       "    </tr>\n",
       "    <tr>\n",
       "      <th>4</th>\n",
       "      <td>62</td>\n",
       "      <td>167659</td>\n",
       "    </tr>\n",
       "  </tbody>\n",
       "</table>\n",
       "</div>"
      ],
      "text/plain": [
       "   source  destination\n",
       "0      52       401135\n",
       "1      52      1069112\n",
       "2      52      1163551\n",
       "3      62        12162\n",
       "4      62       167659"
      ]
     },
     "execution_count": 3,
     "metadata": {},
     "output_type": "execute_result"
    }
   ],
   "source": [
    "source_destination.head()"
   ]
  },
  {
   "cell_type": "code",
   "execution_count": 4,
   "metadata": {},
   "outputs": [],
   "source": [
    "#make a dictionary where key=source_id(article_id), value=destination_id(list of article_id's which are connected to that article)"
   ]
  },
  {
   "cell_type": "code",
   "execution_count": 5,
   "metadata": {},
   "outputs": [],
   "source": [
    "source_destination_tuples=[(row[\"source\"],row[\"destination\"]) for idx,row in source_destination.iterrows()]"
   ]
  },
  {
   "cell_type": "markdown",
   "metadata": {},
   "source": [
    "source_destination_dict=defaultdict(list)\n",
    "for idx,row in source_destination.iterrows():\n",
    "    source_destination_dict[row[\"source\"]].append(row[\"destination\"])"
   ]
  },
  {
   "cell_type": "markdown",
   "metadata": {},
   "source": [
    "pickle.dump(source_destination_dict, open(\"source_destination_dict.p\", \"wb\")) "
   ]
  },
  {
   "cell_type": "code",
   "execution_count": 6,
   "metadata": {},
   "outputs": [],
   "source": [
    "source_destination_dict=pickle.load(open(\"source_destination_dict.p\", \"rb\"))"
   ]
  },
  {
   "cell_type": "code",
   "execution_count": 7,
   "metadata": {},
   "outputs": [
    {
     "data": {
      "text/plain": [
       "[401135, 1069112, 1163551]"
      ]
     },
     "execution_count": 7,
     "metadata": {},
     "output_type": "execute_result"
    }
   ],
   "source": [
    "source_destination_dict[52]"
   ]
  },
  {
   "cell_type": "markdown",
   "metadata": {},
   "source": [
    "### The number of nodes and edges"
   ]
  },
  {
   "cell_type": "code",
   "execution_count": 8,
   "metadata": {},
   "outputs": [
    {
     "name": "stdout",
     "output_type": "stream",
     "text": [
      "Number of nodes: 461193 \n",
      "Number of edges: 2174062\n"
     ]
    }
   ],
   "source": [
    "#The number of nodes\n",
    "Gtup = nx.Graph()\n",
    "Gtup.add_edges_from(source_destination_tuples)\n",
    "print(\"Number of nodes:\",len(Gtup.nodes()),\"\\nNumber of edges:\",len(Gtup.edges()))"
   ]
  },
  {
   "cell_type": "markdown",
   "metadata": {},
   "source": [
    "### Average node degree"
   ]
  },
  {
   "cell_type": "code",
   "execution_count": 9,
   "metadata": {},
   "outputs": [
    {
     "data": {
      "text/plain": [
       "'Average degree:   9.4297'"
      ]
     },
     "execution_count": 9,
     "metadata": {},
     "output_type": "execute_result"
    }
   ],
   "source": [
    "nx.info(Gtup).split(\"\\n\")[4]"
   ]
  },
  {
   "cell_type": "markdown",
   "metadata": {},
   "source": [
    "###  Is the graph dense?"
   ]
  },
  {
   "cell_type": "code",
   "execution_count": 10,
   "metadata": {},
   "outputs": [
    {
     "data": {
      "text/plain": [
       "2.0446319786157265e-05"
      ]
     },
     "execution_count": 10,
     "metadata": {},
     "output_type": "execute_result"
    }
   ],
   "source": [
    "nx.density(Gtup)"
   ]
  },
  {
   "cell_type": "code",
   "execution_count": 11,
   "metadata": {},
   "outputs": [],
   "source": [
    "#The graph is a sparse graph. Because the density has a small value."
   ]
  },
  {
   "cell_type": "code",
   "execution_count": 12,
   "metadata": {},
   "outputs": [
    {
     "data": {
      "text/plain": [
       "(52, [401135, 1069112, 1163551])"
      ]
     },
     "execution_count": 12,
     "metadata": {},
     "output_type": "execute_result"
    }
   ],
   "source": [
    "first_key=next(iter(source_destination_dict))\n",
    "\n",
    "(first_key,source_destination_dict[first_key])"
   ]
  },
  {
   "cell_type": "markdown",
   "metadata": {},
   "source": [
    "### Is the graph directed or undirected?"
   ]
  },
  {
   "cell_type": "code",
   "execution_count": 13,
   "metadata": {},
   "outputs": [
    {
     "data": {
      "text/plain": [
       "False"
      ]
     },
     "execution_count": 13,
     "metadata": {},
     "output_type": "execute_result"
    }
   ],
   "source": [
    "nx.is_directed(Gtup)"
   ]
  },
  {
   "cell_type": "code",
   "execution_count": 14,
   "metadata": {},
   "outputs": [
    {
     "name": "stdout",
     "output_type": "stream",
     "text": [
      "Graph is directed\n"
     ]
    }
   ],
   "source": [
    "indicatorD=False\n",
    "first_key=next(iter(source_destination_dict))\n",
    "first_key_tup=(first_key,source_destination_dict[first_key])\n",
    "for dest in first_key_tup[1]:#check when destination is source\n",
    "    if first_key not in source_destination_dict[dest]:\n",
    "        indicatorD=True\n",
    "if indicatorD==True:\n",
    "    print(\"Graph is directed\")\n",
    "else:\n",
    "    print(\"Graph is undirected\")"
   ]
  },
  {
   "cell_type": "code",
   "execution_count": 15,
   "metadata": {},
   "outputs": [],
   "source": [
    "Gtup_directed = nx.DiGraph()"
   ]
  },
  {
   "cell_type": "code",
   "execution_count": 16,
   "metadata": {},
   "outputs": [
    {
     "name": "stdout",
     "output_type": "stream",
     "text": [
      "Number of nodes: 461193 \n",
      "Number of edges: 2645247\n"
     ]
    }
   ],
   "source": [
    "Gtup_directed.add_edges_from(source_destination_tuples)\n",
    "print(\"Number of nodes:\",len(Gtup_directed.nodes()),\"\\nNumber of edges:\",len(Gtup_directed.edges()))"
   ]
  },
  {
   "cell_type": "code",
   "execution_count": 17,
   "metadata": {},
   "outputs": [
    {
     "data": {
      "text/plain": [
       "True"
      ]
     },
     "execution_count": 17,
     "metadata": {},
     "output_type": "execute_result"
    }
   ],
   "source": [
    "nx.is_directed(Gtup_directed)"
   ]
  },
  {
   "cell_type": "markdown",
   "metadata": {},
   "source": [
    "Note that there are some categories that we have removed from the graph; more precisely, you must take into account all the categories that have a number of articles greater than 3500."
   ]
  },
  {
   "cell_type": "code",
   "execution_count": null,
   "metadata": {},
   "outputs": [],
   "source": [
    "#Remove the categories that have a number of articles greater than 3500."
   ]
  },
  {
   "cell_type": "code",
   "execution_count": null,
   "metadata": {},
   "outputs": [],
   "source": [
    "categories=pd.read_csv('wiki-topcats-categories.txt',sep=\"\\n\",header=None)"
   ]
  },
  {
   "cell_type": "code",
   "execution_count": null,
   "metadata": {},
   "outputs": [],
   "source": [
    "categories.head(2)"
   ]
  },
  {
   "cell_type": "code",
   "execution_count": null,
   "metadata": {},
   "outputs": [],
   "source": [
    "def num_cat(row):\n",
    "    cat=row\n",
    "    return len(cat.split(\"; \")[1].split(\" \"))"
   ]
  },
  {
   "cell_type": "code",
   "execution_count": null,
   "metadata": {},
   "outputs": [],
   "source": [
    "def create_df(row):\n",
    "    return row[0].split(\"; \")"
   ]
  },
  {
   "cell_type": "code",
   "execution_count": null,
   "metadata": {},
   "outputs": [],
   "source": [
    "categories=categories[categories.iloc[:,0].apply(lambda x:True if num_cat(x)>3500 else False)]"
   ]
  },
  {
   "cell_type": "code",
   "execution_count": null,
   "metadata": {},
   "outputs": [],
   "source": [
    "#key=name of the category, value=list of article ids "
   ]
  },
  {
   "cell_type": "code",
   "execution_count": null,
   "metadata": {},
   "outputs": [],
   "source": [
    "categories_dict=defaultdict(list)\n",
    "for idx in categories.index:\n",
    "    cat_and_values=categories[0].loc[idx].split(\"; \")\n",
    "    cat_name=cat_and_values[0].split(\":\")[1]\n",
    "    categories_dict[cat_name]=list(map(int,cat_and_values[1].split(\" \")))"
   ]
  },
  {
   "cell_type": "code",
   "execution_count": null,
   "metadata": {},
   "outputs": [],
   "source": [
    "len(categories_dict[\"English_footballers\"])"
   ]
  },
  {
   "cell_type": "code",
   "execution_count": null,
   "metadata": {},
   "outputs": [],
   "source": [
    "#checking if it is the same    \n",
    "def find_shortest_path(graph, start, end, path=[]):\n",
    "        path = path + [start]\n",
    "        if start == end:\n",
    "            return path\n",
    "        if not graph.has_key(start):\n",
    "            return None\n",
    "        shortest = None\n",
    "        for node in graph[start]:\n",
    "            if node not in path:\n",
    "                newpath = find_shortest_path(graph, node, end, path)\n",
    "                if newpath:\n",
    "                    if not shortest or len(newpath) < len(shortest):\n",
    "                        shortest = newpath\n",
    "        return shortest\n",
    "len(categories[0].loc[868].split(\"; \")[1].split(\" \"))"
   ]
  },
  {
   "cell_type": "markdown",
   "metadata": {},
   "source": [
    "pickle.dump(categories_dict, open(\"categories_dict.p\", \"wb\"))"
   ]
  },
  {
   "cell_type": "code",
   "execution_count": null,
   "metadata": {},
   "outputs": [],
   "source": [
    "categories_dict=pickle.load(open(\"categories_dict.p\", \"rb\"))"
   ]
  },
  {
   "cell_type": "code",
   "execution_count": null,
   "metadata": {},
   "outputs": [],
   "source": [
    "len(categories_dict[\"English_footballers\"])"
   ]
  },
  {
   "cell_type": "code",
   "execution_count": null,
   "metadata": {},
   "outputs": [],
   "source": [
    "import collections\n",
    "import math"
   ]
  },
  {
   "cell_type": "code",
   "execution_count": null,
   "metadata": {},
   "outputs": [],
   "source": [
    "# finds shortest path between 2 nodes of a graph using BFS\n",
    "def bfs_shortest_path(graph, start, goal):\n",
    "    # keep track of explored nodes\n",
    "    explored = []\n",
    "    # keep track of all the paths to be checked\n",
    "    queue = [[start]]\n",
    " \n",
    "    # return path if start is goal\n",
    "    if start == goal:\n",
    "        return 0\n",
    " \n",
    "    # keeps looping until all possible paths have been checked\n",
    "    while queue:\n",
    "        # pop the first path from the queue\n",
    "        path = queue.pop(0)\n",
    "        # get the last node from the path\n",
    "        node = path[-1]\n",
    "        if node not in explored:\n",
    "            neighbours = graph[node]\n",
    "            # go through all neighbour nodes, construct a new path and\n",
    "            # push it into the queue\n",
    "            for neighbour in neighbours:\n",
    "                new_path = list(path)\n",
    "                new_path.append(neighbour)\n",
    "                queue.append(new_path)\n",
    "                # return path if neighbour is goal\n",
    "                if neighbour == goal:\n",
    "                    return len(new_path)-1\n",
    " \n",
    "            # mark node as explored\n",
    "            explored.append(node)\n",
    " \n",
    "    # in case there's no path between the 2 nodes\n",
    "    return \"So sorry, but a connecting path doesn't exist :(\"\n",
    " \n"
   ]
  },
  {
   "cell_type": "code",
   "execution_count": null,
   "metadata": {},
   "outputs": [],
   "source": [
    "categories_dict.keys()"
   ]
  },
  {
   "cell_type": "code",
   "execution_count": null,
   "metadata": {},
   "outputs": [],
   "source": [
    "from tqdm import tqdm"
   ]
  },
  {
   "cell_type": "markdown",
   "metadata": {},
   "source": [
    "cat1 = \"English_footballers\"\n",
    "cat2 = \"The_Football_League_players\"\n",
    "bfs_list= []\n",
    "\n",
    "for val1 in tqdm(categories_dict[cat1]):\n",
    "    for val2 in tqdm(categories_dict[cat2]):\n",
    "        bfs_list.append(bfs_shortest_path(H,val1, val2))"
   ]
  },
  {
   "cell_type": "code",
   "execution_count": null,
   "metadata": {},
   "outputs": [],
   "source": [
    "#OUR method __?"
   ]
  },
  {
   "cell_type": "code",
   "execution_count": null,
   "metadata": {},
   "outputs": [],
   "source": [
    "#imagine if it was ranked\n",
    "#list of \"ranked\" categories\n",
    "cat_lst=categories_dict.keys()\n",
    "#make a subgraph\n",
    "categories_sub=[]\n",
    "for idx,cat in enumerate(cat_lst):\n",
    "    categories_sub.append(categories_dict[cat])\n",
    "    sub_graph = Gtup_directed.subgraph(categories_sub)\n",
    "    in_edge_All=[] #sorted\n",
    "    dict_previous_cat={}\n",
    "\n",
    "    #just for first category\n",
    "    if cat==cat_lst[0]:\n",
    "        in_edge_temp_dict = defaultdict(int)\n",
    "        for tupla in list(sub_graph.edges()):\n",
    "            if tupla[1] in categories_dict[cat]:\n",
    "                in_edge_temp_dict[tupla[1]] += 1\n",
    "        sorted_in_edge_dict= sorted(in_edge_temp_dict.items(), key=operator.itemgetter(1), reverse= True)\n",
    "        in_edge_All.append(sorted_in_edge_dict)\n",
    "        dict_previous_cat=in_edge_temp_dict\n",
    "    else:\n",
    "        in_edge_temp_dict = defaultdict(int)\n",
    "        for tupla in list(sub_graph.edges()):\n",
    "            if tupla[1] in categories_dict[cat]:\n",
    "                source=dict_previous_cat[tupla[0]] #previous category\n",
    "                if source> 0:\n",
    "                    in_edge_temp_dict[tupla[1]] += source\n",
    "                else :\n",
    "                    in_edge_temp_dict[tupla[1]] += 1\n",
    "        dict_previous_cat=in_edge_temp_dict\n",
    "        sorted_in_edge_dict= sorted(in_edge_temp_dict.items(), key=operator.itemgetter(1), reverse= True)\n",
    "        in_edge_All.append(sorted_in_edge_dict)"
   ]
  },
  {
   "cell_type": "code",
   "execution_count": null,
   "metadata": {},
   "outputs": [],
   "source": []
  },
  {
   "cell_type": "code",
   "execution_count": null,
   "metadata": {},
   "outputs": [],
   "source": [
    "cat1 = \"English_footballers\"\n",
    "cat2 = \"The_Football_League_players\""
   ]
  },
  {
   "cell_type": "code",
   "execution_count": null,
   "metadata": {},
   "outputs": [],
   "source": [
    "cat1_2 = categories_dict[cat1].append(categories_dict[cat2])"
   ]
  },
  {
   "cell_type": "code",
   "execution_count": null,
   "metadata": {},
   "outputs": [],
   "source": [
    "type(categories_dict[cat1])"
   ]
  },
  {
   "cell_type": "code",
   "execution_count": null,
   "metadata": {},
   "outputs": [],
   "source": [
    "import numpy as np"
   ]
  },
  {
   "cell_type": "code",
   "execution_count": null,
   "metadata": {},
   "outputs": [],
   "source": [
    "H = Gtup.subgraph(categories_dict[cat1])"
   ]
  },
  {
   "cell_type": "code",
   "execution_count": null,
   "metadata": {},
   "outputs": [],
   "source": [
    "type(list(H.edges())[0])"
   ]
  },
  {
   "cell_type": "code",
   "execution_count": null,
   "metadata": {},
   "outputs": [],
   "source": [
    "from collections import defaultdict"
   ]
  },
  {
   "cell_type": "code",
   "execution_count": null,
   "metadata": {},
   "outputs": [],
   "source": [
    "in_edge_dict = defaultdict(int)\n",
    "for tupla in list(H.edges()):\n",
    "    if tupla[1] in categories_dict[cat1]:\n",
    "        in_edge_dict[tupla[1]] += 1"
   ]
  },
  {
   "cell_type": "code",
   "execution_count": null,
   "metadata": {},
   "outputs": [],
   "source": [
    "in_edge_dict"
   ]
  },
  {
   "cell_type": "code",
   "execution_count": null,
   "metadata": {},
   "outputs": [],
   "source": [
    "import operator"
   ]
  },
  {
   "cell_type": "code",
   "execution_count": null,
   "metadata": {},
   "outputs": [],
   "source": [
    "sorted_in_edge_dict= sorted(in_edge_dict.items(), key=operator.itemgetter(1), reverse= True)"
   ]
  },
  {
   "cell_type": "code",
   "execution_count": null,
   "metadata": {},
   "outputs": [],
   "source": [
    "sorted_in_edge_dict"
   ]
  },
  {
   "cell_type": "code",
   "execution_count": null,
   "metadata": {},
   "outputs": [],
   "source": [
    "for i in sorted_in_edge_dict:\n",
    "    print(i[0])"
   ]
  },
  {
   "cell_type": "markdown",
   "metadata": {},
   "source": [
    "step 2"
   ]
  },
  {
   "cell_type": "code",
   "execution_count": null,
   "metadata": {},
   "outputs": [],
   "source": [
    "H2 = Gtup_directed.subgraph(cat1_2)"
   ]
  },
  {
   "cell_type": "code",
   "execution_count": null,
   "metadata": {},
   "outputs": [],
   "source": [
    "in_edge_dict2 = defaultdict(int)\n",
    "for tupla in list(H.edges()):\n",
    "    if tupla[1] in categories_dict[cat2]:\n",
    "        source=in_edge_dict[tupla[0]]\n",
    "        if source> 0:\n",
    "            in_edge_dict2[tupla[1]] += source\n",
    "        else :\n",
    "            in_edge_dict2[tupla[1]] += 1\n",
    "        \n",
    "        "
   ]
  },
  {
   "cell_type": "code",
   "execution_count": null,
   "metadata": {},
   "outputs": [],
   "source": [
    "in_edge_dict2"
   ]
  },
  {
   "cell_type": "code",
   "execution_count": null,
   "metadata": {},
   "outputs": [],
   "source": [
    "sorted_in_edge_dict2= sorted(in_edge_dict2.items(), key=operator.itemgetter(1), reverse= True)"
   ]
  },
  {
   "cell_type": "code",
   "execution_count": null,
   "metadata": {},
   "outputs": [],
   "source": [
    "pd.Series(sorted_in_edge_dict2).apply(lambda x:print(x[0]) )"
   ]
  },
  {
   "cell_type": "code",
   "execution_count": null,
   "metadata": {},
   "outputs": [],
   "source": []
  }
 ],
 "metadata": {
  "kernelspec": {
   "display_name": "Python 3",
   "language": "python",
   "name": "python3"
  },
  "language_info": {
   "codemirror_mode": {
    "name": "ipython",
    "version": 3
   },
   "file_extension": ".py",
   "mimetype": "text/x-python",
   "name": "python",
   "nbconvert_exporter": "python",
   "pygments_lexer": "ipython3",
   "version": "3.6.3"
  }
 },
 "nbformat": 4,
 "nbformat_minor": 2
}
